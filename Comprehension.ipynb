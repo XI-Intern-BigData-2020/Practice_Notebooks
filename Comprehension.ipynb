{
 "cells": [
  {
   "cell_type": "code",
   "execution_count": 2,
   "metadata": {},
   "outputs": [
    {
     "name": "stdout",
     "output_type": "stream",
     "text": [
      "[2, 3, 4, 5, 6]\n"
     ]
    }
   ],
   "source": [
    "#It makes it easier to create a new list from the old one.\n",
    "old_list=[1,2,3,4,5]\n",
    "new_list=[i+1 for i in old_list]\n",
    "print(new_list)"
   ]
  },
  {
   "cell_type": "code",
   "execution_count": 3,
   "metadata": {},
   "outputs": [
    {
     "name": "stdout",
     "output_type": "stream",
     "text": [
      "[False, False, True, True, False, False, True, True, False, False, True, False]\n"
     ]
    }
   ],
   "source": [
    "#Taking another example we have \n",
    "num=[1,1,2,2,3,3,4,4,5,7,8,9]\n",
    "even=[i%2==0 for i in num]\n",
    "print(even)"
   ]
  },
  {
   "cell_type": "code",
   "execution_count": 4,
   "metadata": {},
   "outputs": [
    {
     "name": "stdout",
     "output_type": "stream",
     "text": [
      "[2, 2, 4, 4, 8]\n"
     ]
    }
   ],
   "source": [
    "num=[1,1,2,2,3,3,4,4,5,7,8,9]\n",
    "even=[i for i in num if i%2==0]\n",
    "print(even)"
   ]
  },
  {
   "cell_type": "code",
   "execution_count": 6,
   "metadata": {},
   "outputs": [
    {
     "name": "stdout",
     "output_type": "stream",
     "text": [
      "[('tata', 'petrol'), ('tata', 'diesel'), ('honda', 'petrol'), ('honda', 'diesel')]\n"
     ]
    }
   ],
   "source": [
    "cmp=['tata','honda']\n",
    "varient=['petrol','diesel']\n",
    "new_list=[(i,j) for i in cmp for j in varient]\n",
    "print(new_list)"
   ]
  },
  {
   "cell_type": "code",
   "execution_count": 7,
   "metadata": {},
   "outputs": [
    {
     "name": "stdout",
     "output_type": "stream",
     "text": [
      "{1: 1, 3: 27, 5: 125}\n"
     ]
    }
   ],
   "source": [
    "#Dictionary Comprehension\n",
    "l = [1,2,3,4,5] \n",
    "dic = {var:var ** 3 for var in l if var % 2 != 0} \n",
    "print(dic) "
   ]
  },
  {
   "cell_type": "code",
   "execution_count": 10,
   "metadata": {},
   "outputs": [
    {
     "name": "stdout",
     "output_type": "stream",
     "text": [
      "{8, 2, 4, 6}\n"
     ]
    }
   ],
   "source": [
    "#Set Comprehension(it uses{}brackets)\n",
    "l = [1,2,3,4,4,5,6,6,6,7,7,8,8,8,8] \n",
    "set= {var for var in l if var % 2 == 0} \n",
    "print(set) "
   ]
  },
  {
   "cell_type": "markdown",
   "metadata": {},
   "source": [
    "i have list with number 1-10 whilw entering the number i missed one number so ihave to identify"
   ]
  },
  {
   "cell_type": "code",
   "execution_count": 19,
   "metadata": {},
   "outputs": [
    {
     "name": "stdout",
     "output_type": "stream",
     "text": [
      "9.0\n"
     ]
    }
   ],
   "source": [
    "nums=[1,2,3,4,5,6,7,8,10]\n",
    "#we can find it by subtracting the given sum of item of list from sum of AP formed\n",
    "def miss_num(nums):\n",
    "    l=len(nums)\n",
    "    ap=(l+1)*(l+2)/2\n",
    "    sum1=sum(nums)\n",
    "    return ap-sum1\n",
    "miss=miss_num(nums)\n",
    "print(miss)  \n",
    "    "
   ]
  },
  {
   "cell_type": "code",
   "execution_count": 31,
   "metadata": {},
   "outputs": [
    {
     "name": "stdout",
     "output_type": "stream",
     "text": [
      "[5, 8]\n"
     ]
    }
   ],
   "source": [
    "miss_list=[1,2,3,4,6,7,9,10]\n",
    "full_list=[1,2,3,4,5,6,7,8,9,10]\n",
    "miss=[]\n",
    "for i in full_list:\n",
    "    if i not in miss_list:\n",
    "        if i not in miss:\n",
    "            miss.append(i)\n",
    "print(miss)"
   ]
  },
  {
   "cell_type": "markdown",
   "metadata": {},
   "source": [
    "sets, lambda function, how to use lambda in list comprehension, map and filter function (zip functions) flt map"
   ]
  },
  {
   "cell_type": "code",
   "execution_count": 33,
   "metadata": {},
   "outputs": [
    {
     "name": "stdout",
     "output_type": "stream",
     "text": [
      "49\n"
     ]
    }
   ],
   "source": [
    "x=lambda a:a**2\n",
    "print(x(7))"
   ]
  },
  {
   "cell_type": "code",
   "execution_count": 34,
   "metadata": {},
   "outputs": [
    {
     "name": "stdout",
     "output_type": "stream",
     "text": [
      "[1, 2, 3, 4, 4, 5, 6, 6, 6, 7, 7, 8, 8, 8, 8]\n"
     ]
    }
   ],
   "source": [
    "print(l)"
   ]
  },
  {
   "cell_type": "code",
   "execution_count": 35,
   "metadata": {},
   "outputs": [
    {
     "name": "stdout",
     "output_type": "stream",
     "text": [
      "[2, 4, 6, 8, 8, 10, 12, 12, 12, 14, 14, 16, 16, 16, 16]\n"
     ]
    }
   ],
   "source": [
    "li=list(map(lambda x:x*2,l))\n",
    "print(li)"
   ]
  },
  {
   "cell_type": "code",
   "execution_count": 38,
   "metadata": {},
   "outputs": [
    {
     "name": "stdout",
     "output_type": "stream",
     "text": [
      "[]\n"
     ]
    }
   ],
   "source": [
    "lf=list(filter(lambda x:x%2 !=0,li))\n",
    "print(lf)"
   ]
  },
  {
   "cell_type": "code",
   "execution_count": null,
   "metadata": {},
   "outputs": [],
   "source": []
  }
 ],
 "metadata": {
  "kernelspec": {
   "display_name": "Python 3",
   "language": "python",
   "name": "python3"
  },
  "language_info": {
   "codemirror_mode": {
    "name": "ipython",
    "version": 3
   },
   "file_extension": ".py",
   "mimetype": "text/x-python",
   "name": "python",
   "nbconvert_exporter": "python",
   "pygments_lexer": "ipython3",
   "version": "3.7.6"
  }
 },
 "nbformat": 4,
 "nbformat_minor": 4
}
