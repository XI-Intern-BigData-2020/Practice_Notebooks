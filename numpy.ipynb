{
 "cells": [
  {
   "cell_type": "code",
   "execution_count": 48,
   "metadata": {},
   "outputs": [
    {
     "name": "stdout",
     "output_type": "stream",
     "text": [
      "[1. 2. 3.]\n",
      "<class 'numpy.ndarray'>\n",
      "float64\n",
      "(3,)\n",
      "*#*#*#*#*#*#*#*#*#*#*#*#*#*#*#*#*#*#*#*#\n",
      "[[0. 0.]]\n",
      "[[1. 1.]\n",
      " [1. 1.]]\n",
      "[[7 7]\n",
      " [7 7]]\n"
     ]
    }
   ],
   "source": [
    "import  numpy as np\n",
    "array1=np.array([1,2,3] , dtype=np.float64)\n",
    "print(array1)\n",
    "print(type(array1))\n",
    "print(array1.dtype)\n",
    "print(array1.shape)\n",
    "print(\"*#\"*20)\n",
    "print(np.zeros((1,2)))\n",
    "print(np.ones((2,2)))\n",
    "print(np.full((2,2),7))"
   ]
  },
  {
   "cell_type": "code",
   "execution_count": 37,
   "metadata": {},
   "outputs": [
    {
     "name": "stdout",
     "output_type": "stream",
     "text": [
      "The value of a1 is=\n",
      "[[1 2 3 4]\n",
      " [5 6 7 8]]\n",
      "value of b1 is\n",
      "[[2 3]\n",
      " [6 7]]\n",
      "value of new a1 is \n",
      "[[1 5 3 4]\n",
      " [5 6 7 8]]\n",
      "if we want to print a single row of the a1  with rank 1 then\n",
      "[5 6 7 8]\n",
      "if we want to print a single row of the a1  with rank 2 then\n",
      "[[5 6 7 8]]\n",
      "print items at particular index in an array \n",
      "[5 6]\n"
     ]
    }
   ],
   "source": [
    "#slicing of arrays\n",
    "import numpy as np\n",
    "a1=np.array([[1,2,3,4],[5,6,7,8]])\n",
    "print('The value of a1 is=')\n",
    "print(a1)\n",
    "b1=a1[:,1:3]\n",
    "print(\"value of b1 is\")\n",
    "print(b1)\n",
    "b1[0,0]=5\n",
    "print('value of new a1 is ')\n",
    "print(a1)\n",
    "print('if we want to print a single row of the a1  with rank 1 then')\n",
    "r_a1=a1[1,:]\n",
    "print(r_a1)\n",
    "print('if we want to print a single row of the a1  with rank 2 then')\n",
    "r1_a1=a1[1:2,:]\n",
    "print(r1_a1)\n",
    "print('print items at particular index in an array ')\n",
    "print(a1[[0,1],[1,1]])\n"
   ]
  },
  {
   "cell_type": "code",
   "execution_count": 47,
   "metadata": {},
   "outputs": [
    {
     "name": "stdout",
     "output_type": "stream",
     "text": [
      "[[1 5 3 4]\n",
      " [5 6 7 8]]\n",
      "print items at 0 index in 1st row and ite at 3rd indx in row 2\n",
      "[1 8]\n",
      "checking a particular condition in a array using bool\n",
      "[[False False False  True]\n",
      " [False  True False  True]]\n",
      "[4 6 8]\n"
     ]
    }
   ],
   "source": [
    "# if we want to add someting to a particular indices\n",
    "print(a1)\n",
    "b=np.array([0,3])\n",
    "print('print items at 0 index in 1st row and ite at 3rd indx in row 2')\n",
    "print(a1[np.arange(2),b])\n",
    "print('checking a particular condition in a array using bool')\n",
    "bool_idx=(a1%2==0)\n",
    "print(bool_idx)\n",
    "print(a1[bool_idx])"
   ]
  },
  {
   "cell_type": "code",
   "execution_count": 62,
   "metadata": {},
   "outputs": [
    {
     "name": "stdout",
     "output_type": "stream",
     "text": [
      "matrix multiplication\n",
      "[[22 35 24]\n",
      " [27 44 28]\n",
      " [14 22 18]]\n",
      "multiply elements\n",
      "[[ 4 20  6]\n",
      " [ 9 20  6]\n",
      " [ 2  6 12]]\n",
      "the sum of items in rows of array x\n",
      "[ 9 11  6]\n",
      "the sum of items in column of array x\n",
      "[ 6 11  9]\n",
      "transpose of x is \n",
      "[[2 3 1]\n",
      " [4 5 2]\n",
      " [3 3 3]]\n"
     ]
    }
   ],
   "source": [
    "#arithmatic operations on numpy arrays\n",
    "x=np.array([[2,4,3],[3,5,3],[1,2,3]])\n",
    "y=np.array([[2,5,2],[3,4,2],[2,3,4]])\n",
    "z=x.dot(y)\n",
    "print('matrix multiplication')\n",
    "print(z)\n",
    "print('multiply elements')\n",
    "w=np.multiply(x,y)\n",
    "print(w)\n",
    "print('the sum of items in rows of array x')\n",
    "print(np.sum(x,axis=1))\n",
    "print('the sum of items in column of array x')\n",
    "print(np.sum(x,axis=0))\n",
    "print('transpose of x is ')\n",
    "print(x.T)"
   ]
  },
  {
   "cell_type": "code",
   "execution_count": 76,
   "metadata": {},
   "outputs": [
    {
     "name": "stdout",
     "output_type": "stream",
     "text": [
      "[[2 4 3]\n",
      " [3 5 3]\n",
      " [1 2 3]]\n",
      "we have to add v to every row of x\n",
      "[[3 6 6]\n",
      " [4 7 6]\n",
      " [2 4 6]]\n",
      "change the shape of martrix\n",
      "[[1 2]\n",
      " [3 4]\n",
      " [2 3]\n",
      " [4 5]]\n",
      "it doesnt chnge  tthe actual value of the actual array \n",
      "[[1 2 3 4]\n",
      " [2 3 4 5]]\n"
     ]
    }
   ],
   "source": [
    "#broadcasting\n",
    "print(x)\n",
    "v=np.array([1,2,3])\n",
    "print('we have to add v to every row of x')\n",
    "#vx=np.tile(v,(3,1))\n",
    "xs=x+v\n",
    "print(xs)\n",
    "xr=np.array([[1,2,3,4],[2,3,4,5]])\n",
    "print('change the shape of martrix')\n",
    "print(np.reshape(xr,(4,2)))\n",
    "print('it doesnt chnge  tthe actual value of the actual array ')\n",
    "print(xr)"
   ]
  },
  {
   "cell_type": "code",
   "execution_count": null,
   "metadata": {},
   "outputs": [],
   "source": []
  }
 ],
 "metadata": {
  "kernelspec": {
   "display_name": "Python 3",
   "language": "python",
   "name": "python3"
  },
  "language_info": {
   "codemirror_mode": {
    "name": "ipython",
    "version": 3
   },
   "file_extension": ".py",
   "mimetype": "text/x-python",
   "name": "python",
   "nbconvert_exporter": "python",
   "pygments_lexer": "ipython3",
   "version": "3.7.6"
  }
 },
 "nbformat": 4,
 "nbformat_minor": 4
}
